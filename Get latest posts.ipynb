{
 "cells": [
  {
   "cell_type": "code",
   "execution_count": 1,
   "id": "1d9318c9-bb68-4ff1-a8f4-495a6991e59e",
   "metadata": {
    "tags": []
   },
   "outputs": [],
   "source": [
    "import datetime\n",
    "import os\n",
    "import pandas as pd\n",
    "\n",
    "# local imports\n",
    "from app.utils import get_archive_slice"
   ]
  },
  {
   "cell_type": "code",
   "execution_count": 2,
   "id": "51049f87-bd0a-4f44-97b4-3d2c3c166c14",
   "metadata": {
    "tags": []
   },
   "outputs": [],
   "source": [
    "date = \"2023-05-22\""
   ]
  },
  {
   "cell_type": "code",
   "execution_count": 4,
   "id": "9a0084d7-aeaa-4292-b84c-15b0f46136d1",
   "metadata": {
    "tags": []
   },
   "outputs": [],
   "source": [
    "# or just load archive\n",
    "# posts = pd.read_csv(\"app/scraped_data/archive.csv\", parse_dates=['message_date'])"
   ]
  },
  {
   "cell_type": "code",
   "execution_count": 5,
   "id": "55eb5174-de00-455b-b888-c502d1f05ca4",
   "metadata": {
    "tags": []
   },
   "outputs": [],
   "source": [
    "posts = get_archive_slice(date)"
   ]
  },
  {
   "cell_type": "code",
   "execution_count": 6,
   "id": "e3279ccc-bf9e-49ec-8540-c8de2f52700d",
   "metadata": {
    "tags": []
   },
   "outputs": [],
   "source": [
    "posts = posts.filter(items=[\"message_text\", \"from\", \"message_date\", \"file_name\"], )"
   ]
  },
  {
   "cell_type": "code",
   "execution_count": 7,
   "id": "e2bfd675-205f-4e13-b17c-ca78524b43ec",
   "metadata": {
    "tags": []
   },
   "outputs": [
    {
     "data": {
      "text/html": [
       "<div>\n",
       "<style scoped>\n",
       "    .dataframe tbody tr th:only-of-type {\n",
       "        vertical-align: middle;\n",
       "    }\n",
       "\n",
       "    .dataframe tbody tr th {\n",
       "        vertical-align: top;\n",
       "    }\n",
       "\n",
       "    .dataframe thead th {\n",
       "        text-align: right;\n",
       "    }\n",
       "</style>\n",
       "<table border=\"1\" class=\"dataframe\">\n",
       "  <thead>\n",
       "    <tr style=\"text-align: right;\">\n",
       "      <th></th>\n",
       "      <th>message_text</th>\n",
       "      <th>from</th>\n",
       "      <th>message_date</th>\n",
       "      <th>file_name</th>\n",
       "    </tr>\n",
       "  </thead>\n",
       "  <tbody>\n",
       "    <tr>\n",
       "      <th>1317</th>\n",
       "      <td>⚪️🔵⚪️Сьогодні в мережі з'явилося відео, як РДК...</td>\n",
       "      <td>https://t.me/DeepStateUA/16619</td>\n",
       "      <td>2023-05-22 09:53:12+00:00</td>\n",
       "      <td>бнр 1.MP4</td>\n",
       "    </tr>\n",
       "    <tr>\n",
       "      <th>1318</th>\n",
       "      <td>NaN</td>\n",
       "      <td>https://t.me/DeepStateUA/16620</td>\n",
       "      <td>2023-05-22 09:53:12+00:00</td>\n",
       "      <td>бнр 2.MP4</td>\n",
       "    </tr>\n",
       "    <tr>\n",
       "      <th>1319</th>\n",
       "      <td>NaN</td>\n",
       "      <td>https://t.me/DeepStateUA/16621</td>\n",
       "      <td>2023-05-22 09:53:12+00:00</td>\n",
       "      <td>бнр 3.MOV</td>\n",
       "    </tr>\n",
       "    <tr>\n",
       "      <th>1320</th>\n",
       "      <td>NaN</td>\n",
       "      <td>https://t.me/DeepStateUA/16622</td>\n",
       "      <td>2023-05-22 09:53:13+00:00</td>\n",
       "      <td>бнр 4.MOV</td>\n",
       "    </tr>\n",
       "    <tr>\n",
       "      <th>1321</th>\n",
       "      <td>NaN</td>\n",
       "      <td>https://t.me/DeepStateUA/16623</td>\n",
       "      <td>2023-05-22 09:53:13+00:00</td>\n",
       "      <td>бнр 5.mp4</td>\n",
       "    </tr>\n",
       "    <tr>\n",
       "      <th>1322</th>\n",
       "      <td>NaN</td>\n",
       "      <td>https://t.me/DeepStateUA/16624</td>\n",
       "      <td>2023-05-22 09:53:13+00:00</td>\n",
       "      <td>бнр.mp4</td>\n",
       "    </tr>\n",
       "    <tr>\n",
       "      <th>1323</th>\n",
       "      <td>🔸Донбас Реалії — ексклюзивний контент від воєн...</td>\n",
       "      <td>https://t.me/DeepStateUA/16632</td>\n",
       "      <td>2023-05-22 15:00:22+00:00</td>\n",
       "      <td>4x5-TG-DR-12mb.mp4</td>\n",
       "    </tr>\n",
       "  </tbody>\n",
       "</table>\n",
       "</div>"
      ],
      "text/plain": [
       "                                           message_text  \\\n",
       "1317  ⚪️🔵⚪️Сьогодні в мережі з'явилося відео, як РДК...   \n",
       "1318                                                NaN   \n",
       "1319                                                NaN   \n",
       "1320                                                NaN   \n",
       "1321                                                NaN   \n",
       "1322                                                NaN   \n",
       "1323  🔸Донбас Реалії — ексклюзивний контент від воєн...   \n",
       "\n",
       "                                from              message_date  \\\n",
       "1317  https://t.me/DeepStateUA/16619 2023-05-22 09:53:12+00:00   \n",
       "1318  https://t.me/DeepStateUA/16620 2023-05-22 09:53:12+00:00   \n",
       "1319  https://t.me/DeepStateUA/16621 2023-05-22 09:53:12+00:00   \n",
       "1320  https://t.me/DeepStateUA/16622 2023-05-22 09:53:13+00:00   \n",
       "1321  https://t.me/DeepStateUA/16623 2023-05-22 09:53:13+00:00   \n",
       "1322  https://t.me/DeepStateUA/16624 2023-05-22 09:53:13+00:00   \n",
       "1323  https://t.me/DeepStateUA/16632 2023-05-22 15:00:22+00:00   \n",
       "\n",
       "               file_name  \n",
       "1317           бнр 1.MP4  \n",
       "1318           бнр 2.MP4  \n",
       "1319           бнр 3.MOV  \n",
       "1320           бнр 4.MOV  \n",
       "1321           бнр 5.mp4  \n",
       "1322             бнр.mp4  \n",
       "1323  4x5-TG-DR-12mb.mp4  "
      ]
     },
     "execution_count": 7,
     "metadata": {},
     "output_type": "execute_result"
    }
   ],
   "source": [
    "posts"
   ]
  },
  {
   "cell_type": "code",
   "execution_count": null,
   "id": "9c801454-a3f4-4829-8973-5d9f06e64779",
   "metadata": {},
   "outputs": [],
   "source": []
  }
 ],
 "metadata": {
  "kernelspec": {
   "display_name": "Python 3 (ipykernel)",
   "language": "python",
   "name": "python3"
  },
  "language_info": {
   "codemirror_mode": {
    "name": "ipython",
    "version": 3
   },
   "file_extension": ".py",
   "mimetype": "text/x-python",
   "name": "python",
   "nbconvert_exporter": "python",
   "pygments_lexer": "ipython3",
   "version": "3.9.16"
  }
 },
 "nbformat": 4,
 "nbformat_minor": 5
}
