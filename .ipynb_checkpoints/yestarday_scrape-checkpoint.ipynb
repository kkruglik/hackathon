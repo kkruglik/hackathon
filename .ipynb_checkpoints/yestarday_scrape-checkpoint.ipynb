{
 "cells": [
  {
   "cell_type": "code",
   "execution_count": 12,
   "id": "737c9e1b-1c03-4e57-9ee8-248c2e4ff496",
   "metadata": {
    "tags": []
   },
   "outputs": [],
   "source": [
    "import pandas as pd\n",
    "import datetime"
   ]
  },
  {
   "cell_type": "code",
   "execution_count": 39,
   "id": "6784937d-d039-405d-bb99-69bf308732fe",
   "metadata": {
    "tags": []
   },
   "outputs": [
    {
     "name": "stdout",
     "output_type": "stream",
     "text": [
      "37127290547.session\n",
      "IBG-Deduplication-FullListOfSources.csv\n",
      "\u001b[1m\u001b[36m__pycache__\u001b[m\u001b[m/\n",
      "main.py\n",
      "scrape_creamy_caprice.py\n",
      "scrape_prev_day.py\n",
      "scrape_video_data.py\n",
      "scraped_data_2023-05-21.csv\n",
      "telegram_scraper.py\n",
      "telegram_scraper_v2.py\n"
     ]
    }
   ],
   "source": [
    "ls app"
   ]
  },
  {
   "cell_type": "code",
   "execution_count": 37,
   "id": "caae628e-a820-4ed8-bfca-0f2ae7cb9a02",
   "metadata": {
    "tags": []
   },
   "outputs": [],
   "source": [
    "df = pd.read_csv(\"app/DeepStateUA_2023-05-21.csv\")"
   ]
  },
  {
   "cell_type": "code",
   "execution_count": 41,
   "id": "ded56d91-5161-4de4-b7c7-49e8503f90ae",
   "metadata": {
    "tags": []
   },
   "outputs": [
    {
     "data": {
      "text/html": [
       "<div>\n",
       "<style scoped>\n",
       "    .dataframe tbody tr th:only-of-type {\n",
       "        vertical-align: middle;\n",
       "    }\n",
       "\n",
       "    .dataframe tbody tr th {\n",
       "        vertical-align: top;\n",
       "    }\n",
       "\n",
       "    .dataframe thead th {\n",
       "        text-align: right;\n",
       "    }\n",
       "</style>\n",
       "<table border=\"1\" class=\"dataframe\">\n",
       "  <thead>\n",
       "    <tr style=\"text-align: right;\">\n",
       "      <th></th>\n",
       "      <th>file_name</th>\n",
       "      <th>message_text</th>\n",
       "      <th>message_date</th>\n",
       "      <th>peer_id</th>\n",
       "      <th>post_author</th>\n",
       "      <th>from</th>\n",
       "      <th>file_size</th>\n",
       "      <th>access_hash</th>\n",
       "      <th>file_reference</th>\n",
       "      <th>date</th>\n",
       "      <th>mime_type</th>\n",
       "      <th>duration</th>\n",
       "      <th>width</th>\n",
       "      <th>height</th>\n",
       "    </tr>\n",
       "  </thead>\n",
       "  <tbody>\n",
       "    <tr>\n",
       "      <th>0</th>\n",
       "      <td>діпстейтмомент.mp4</td>\n",
       "      <td>— кремль називає передачу F-16 \"колосальним ри...</td>\n",
       "      <td>2023-05-21 18:04:26+00:00</td>\n",
       "      <td>1469021333</td>\n",
       "      <td>NaN</td>\n",
       "      <td>https://t.me/DeepStateUA/16609</td>\n",
       "      <td>14167856</td>\n",
       "      <td>8205477248107928144</td>\n",
       "      <td>b'\\x02W\\x8f|\\x95\\x00\\x00@\\xe1dk0\\xdd\\xaf\\xd5\\x...</td>\n",
       "      <td>2023-05-21 18:04:26+00:00</td>\n",
       "      <td>video/mp4</td>\n",
       "      <td>23</td>\n",
       "      <td>1280</td>\n",
       "      <td>720</td>\n",
       "    </tr>\n",
       "    <tr>\n",
       "      <th>1</th>\n",
       "      <td>59відео12.mp4</td>\n",
       "      <td>🪢 Відео від АероСкіфів з 9-го бату 59-ї ОМПБр....</td>\n",
       "      <td>2023-05-21 13:29:01+00:00</td>\n",
       "      <td>1469021333</td>\n",
       "      <td>NaN</td>\n",
       "      <td>https://t.me/DeepStateUA/16607</td>\n",
       "      <td>43482655</td>\n",
       "      <td>-3049308013199648294</td>\n",
       "      <td>b'\\x02W\\x8f|\\x95\\x00\\x00@\\xdfdk0\\xdd\\'\\xc2;\\xe...</td>\n",
       "      <td>2023-05-21 13:22:55+00:00</td>\n",
       "      <td>video/mp4</td>\n",
       "      <td>363</td>\n",
       "      <td>1280</td>\n",
       "      <td>720</td>\n",
       "    </tr>\n",
       "    <tr>\n",
       "      <th>2</th>\n",
       "      <td>@DeepStateUA_biden_g7_bakhmut.mp4</td>\n",
       "      <td>🇺🇸Байден у своїй промові на саміті G7 у Хіросі...</td>\n",
       "      <td>2023-05-21 13:12:49+00:00</td>\n",
       "      <td>1469021333</td>\n",
       "      <td>NaN</td>\n",
       "      <td>https://t.me/DeepStateUA/16606</td>\n",
       "      <td>33253619</td>\n",
       "      <td>-4304239838108708020</td>\n",
       "      <td>b'\\x02W\\x8f|\\x95\\x00\\x00@\\xdedk0\\xdd\\x8e\\x9e\\x...</td>\n",
       "      <td>2023-05-21 13:12:49+00:00</td>\n",
       "      <td>video/mp4</td>\n",
       "      <td>49</td>\n",
       "      <td>1280</td>\n",
       "      <td>1174</td>\n",
       "    </tr>\n",
       "    <tr>\n",
       "      <th>3</th>\n",
       "      <td>53зновуїбашитьпідарівуїбучомумісці.mp4</td>\n",
       "      <td>🗡 Бійці 53 ОМБр поділилися кадрами як зупиняли...</td>\n",
       "      <td>2023-05-21 05:23:02+00:00</td>\n",
       "      <td>1469021333</td>\n",
       "      <td>NaN</td>\n",
       "      <td>https://t.me/DeepStateUA/16602</td>\n",
       "      <td>20216742</td>\n",
       "      <td>-8980393870367746738</td>\n",
       "      <td>b'\\x02W\\x8f|\\x95\\x00\\x00@\\xdadk0\\xdd\\xe2\\x82\\x...</td>\n",
       "      <td>2023-05-20 23:13:51+00:00</td>\n",
       "      <td>video/mp4</td>\n",
       "      <td>166</td>\n",
       "      <td>1280</td>\n",
       "      <td>720</td>\n",
       "    </tr>\n",
       "  </tbody>\n",
       "</table>\n",
       "</div>"
      ],
      "text/plain": [
       "                                file_name  \\\n",
       "0                      діпстейтмомент.mp4   \n",
       "1                           59відео12.mp4   \n",
       "2       @DeepStateUA_biden_g7_bakhmut.mp4   \n",
       "3  53зновуїбашитьпідарівуїбучомумісці.mp4   \n",
       "\n",
       "                                        message_text  \\\n",
       "0  — кремль називає передачу F-16 \"колосальним ри...   \n",
       "1  🪢 Відео від АероСкіфів з 9-го бату 59-ї ОМПБр....   \n",
       "2  🇺🇸Байден у своїй промові на саміті G7 у Хіросі...   \n",
       "3  🗡 Бійці 53 ОМБр поділилися кадрами як зупиняли...   \n",
       "\n",
       "                message_date     peer_id  post_author  \\\n",
       "0  2023-05-21 18:04:26+00:00  1469021333          NaN   \n",
       "1  2023-05-21 13:29:01+00:00  1469021333          NaN   \n",
       "2  2023-05-21 13:12:49+00:00  1469021333          NaN   \n",
       "3  2023-05-21 05:23:02+00:00  1469021333          NaN   \n",
       "\n",
       "                             from  file_size          access_hash  \\\n",
       "0  https://t.me/DeepStateUA/16609   14167856  8205477248107928144   \n",
       "1  https://t.me/DeepStateUA/16607   43482655 -3049308013199648294   \n",
       "2  https://t.me/DeepStateUA/16606   33253619 -4304239838108708020   \n",
       "3  https://t.me/DeepStateUA/16602   20216742 -8980393870367746738   \n",
       "\n",
       "                                      file_reference  \\\n",
       "0  b'\\x02W\\x8f|\\x95\\x00\\x00@\\xe1dk0\\xdd\\xaf\\xd5\\x...   \n",
       "1  b'\\x02W\\x8f|\\x95\\x00\\x00@\\xdfdk0\\xdd\\'\\xc2;\\xe...   \n",
       "2  b'\\x02W\\x8f|\\x95\\x00\\x00@\\xdedk0\\xdd\\x8e\\x9e\\x...   \n",
       "3  b'\\x02W\\x8f|\\x95\\x00\\x00@\\xdadk0\\xdd\\xe2\\x82\\x...   \n",
       "\n",
       "                        date  mime_type  duration  width  height  \n",
       "0  2023-05-21 18:04:26+00:00  video/mp4        23   1280     720  \n",
       "1  2023-05-21 13:22:55+00:00  video/mp4       363   1280     720  \n",
       "2  2023-05-21 13:12:49+00:00  video/mp4        49   1280    1174  \n",
       "3  2023-05-20 23:13:51+00:00  video/mp4       166   1280     720  "
      ]
     },
     "execution_count": 41,
     "metadata": {},
     "output_type": "execute_result"
    }
   ],
   "source": [
    "df.head()"
   ]
  },
  {
   "cell_type": "code",
   "execution_count": null,
   "id": "dc8f8307-d7a7-466a-b8b1-b000e479ae99",
   "metadata": {},
   "outputs": [],
   "source": []
  }
 ],
 "metadata": {
  "kernelspec": {
   "display_name": "Python 3 (ipykernel)",
   "language": "python",
   "name": "python3"
  },
  "language_info": {
   "codemirror_mode": {
    "name": "ipython",
    "version": 3
   },
   "file_extension": ".py",
   "mimetype": "text/x-python",
   "name": "python",
   "nbconvert_exporter": "python",
   "pygments_lexer": "ipython3",
   "version": "3.9.16"
  }
 },
 "nbformat": 4,
 "nbformat_minor": 5
}
