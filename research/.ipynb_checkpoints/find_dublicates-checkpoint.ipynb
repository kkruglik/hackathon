{
 "cells": [
  {
   "cell_type": "code",
   "execution_count": 38,
   "id": "cb66299b-f88e-43c7-817f-6ca4c9ce1fa9",
   "metadata": {
    "tags": []
   },
   "outputs": [],
   "source": [
    "import pandas as pd\n",
    "import itertools"
   ]
  },
  {
   "cell_type": "markdown",
   "id": "d718d4af-f4d1-46a3-84d3-b18038289273",
   "metadata": {},
   "source": [
    "### Find dublicates in two dataframes"
   ]
  },
  {
   "cell_type": "code",
   "execution_count": 46,
   "id": "45f95829-1fdc-40bb-8c91-fdbecea60bc1",
   "metadata": {
    "tags": []
   },
   "outputs": [
    {
     "data": {
      "text/plain": [
       "(1311, 14)"
      ]
     },
     "execution_count": 46,
     "metadata": {},
     "output_type": "execute_result"
    }
   ],
   "source": [
    "df = pd.read_csv(\"app/scraped_data/archive.csv\", parse_dates=[\"date\"])\n",
    "df = df.sort_values(by=\"date\")\n",
    "df.shape"
   ]
  },
  {
   "cell_type": "code",
   "execution_count": 50,
   "id": "ed89cce3-0b7b-4fae-816b-f60b025e15f7",
   "metadata": {
    "tags": []
   },
   "outputs": [
    {
     "data": {
      "text/html": [
       "<div>\n",
       "<style scoped>\n",
       "    .dataframe tbody tr th:only-of-type {\n",
       "        vertical-align: middle;\n",
       "    }\n",
       "\n",
       "    .dataframe tbody tr th {\n",
       "        vertical-align: top;\n",
       "    }\n",
       "\n",
       "    .dataframe thead th {\n",
       "        text-align: right;\n",
       "    }\n",
       "</style>\n",
       "<table border=\"1\" class=\"dataframe\">\n",
       "  <thead>\n",
       "    <tr style=\"text-align: right;\">\n",
       "      <th></th>\n",
       "      <th>file_name</th>\n",
       "      <th>message_text</th>\n",
       "      <th>message_date</th>\n",
       "      <th>peer_id</th>\n",
       "      <th>post_author</th>\n",
       "      <th>from</th>\n",
       "      <th>file_size</th>\n",
       "      <th>access_hash</th>\n",
       "      <th>file_reference</th>\n",
       "      <th>date</th>\n",
       "      <th>mime_type</th>\n",
       "      <th>duration</th>\n",
       "      <th>width</th>\n",
       "      <th>height</th>\n",
       "    </tr>\n",
       "  </thead>\n",
       "  <tbody>\n",
       "    <tr>\n",
       "      <th>656</th>\n",
       "      <td>прилет в пидорга.mp4</td>\n",
       "      <td>⚡️💥Разведчики ВС РФ заметили солдат ВСУ на огн...</td>\n",
       "      <td>2022-12-27 11:50:47+00:00</td>\n",
       "      <td>1747620635</td>\n",
       "      <td>NaN</td>\n",
       "      <td>https://t.me/ZA_FROHT/11070</td>\n",
       "      <td>15207324</td>\n",
       "      <td>5831423455554312896</td>\n",
       "      <td>b'\\x02h*\\x93\\x1b\\x00\\x00+&gt;dki\\xda?\\x0c\\xbcU\\xa...</td>\n",
       "      <td>2022-12-27 11:23:27+00:00</td>\n",
       "      <td>video/mp4</td>\n",
       "      <td>36</td>\n",
       "      <td>1280</td>\n",
       "      <td>720</td>\n",
       "    </tr>\n",
       "    <tr>\n",
       "      <th>922</th>\n",
       "      <td>video_2022-09-22_15-13-51.mp4</td>\n",
       "      <td>#эксклюзив\\nВидео, на которых хорошо видно поп...</td>\n",
       "      <td>2022-09-22 12:19:27+00:00</td>\n",
       "      <td>1210987817</td>\n",
       "      <td>NaN</td>\n",
       "      <td>https://t.me/NeoficialniyBeZsonoV/17976</td>\n",
       "      <td>10095792</td>\n",
       "      <td>7692846719952014036</td>\n",
       "      <td>b'\\x02H.5)\\x00\\x00F8dkk\\xa0\\xbf\\x97\\xf4\\xa8sma...</td>\n",
       "      <td>2022-09-22 12:18:55+00:00</td>\n",
       "      <td>video/mp4</td>\n",
       "      <td>14</td>\n",
       "      <td>1280</td>\n",
       "      <td>720</td>\n",
       "    </tr>\n",
       "    <tr>\n",
       "      <th>206</th>\n",
       "      <td>2023-03-29 От К_9ка_сбросы (1).mp4</td>\n",
       "      <td>📹Расчёты  БЛА  и артиллерия 9 бригады уничтожа...</td>\n",
       "      <td>2023-03-30 05:59:01+00:00</td>\n",
       "      <td>1372147953</td>\n",
       "      <td>NaN</td>\n",
       "      <td>https://t.me/nm_dnr/10105</td>\n",
       "      <td>6608963</td>\n",
       "      <td>-5921846431927112696</td>\n",
       "      <td>b\"\\x02Q\\xc9P\\xf1\\x00\\x00'ydkg{wx&amp;\\\\\\xb30&gt;\\xf6\\...</td>\n",
       "      <td>2023-03-29 10:00:28+00:00</td>\n",
       "      <td>video/mp4</td>\n",
       "      <td>43</td>\n",
       "      <td>1280</td>\n",
       "      <td>720</td>\n",
       "    </tr>\n",
       "    <tr>\n",
       "      <th>641</th>\n",
       "      <td>Сброс_1.mp4</td>\n",
       "      <td>Запальний нижній брейкданс у виконанні \"другої...</td>\n",
       "      <td>2023-01-03 18:03:03+00:00</td>\n",
       "      <td>1507076521</td>\n",
       "      <td>NaN</td>\n",
       "      <td>https://t.me/ombr_28/218</td>\n",
       "      <td>65350480</td>\n",
       "      <td>-5776135694752862093</td>\n",
       "      <td>b'\\x02Y\\xd4)\\xa9\\x00\\x00\\x00\\xdadki\\xc1\\xf0\\xd...</td>\n",
       "      <td>2023-01-03 18:03:03+00:00</td>\n",
       "      <td>video/mp4</td>\n",
       "      <td>71</td>\n",
       "      <td>1280</td>\n",
       "      <td>720</td>\n",
       "    </tr>\n",
       "    <tr>\n",
       "      <th>1016</th>\n",
       "      <td>Unknown</td>\n",
       "      <td>Взрыв в Новой Каховке, в районе электромеханич...</td>\n",
       "      <td>2022-08-30 06:53:49+00:00</td>\n",
       "      <td>1074354585</td>\n",
       "      <td>NaN</td>\n",
       "      <td>https://t.me/milinfolive/89661</td>\n",
       "      <td>5337156</td>\n",
       "      <td>-8240059508135048326</td>\n",
       "      <td>b'\\x02@\\tY\\x99\\x00\\x01^=dkl=\\x1d\\xda\\xc8\\xde\\x...</td>\n",
       "      <td>2022-08-30 06:53:49+00:00</td>\n",
       "      <td>video/mp4</td>\n",
       "      <td>16</td>\n",
       "      <td>1008</td>\n",
       "      <td>1280</td>\n",
       "    </tr>\n",
       "  </tbody>\n",
       "</table>\n",
       "</div>"
      ],
      "text/plain": [
       "                               file_name  \\\n",
       "656                 прилет в пидорга.mp4   \n",
       "922        video_2022-09-22_15-13-51.mp4   \n",
       "206   2023-03-29 От К_9ка_сбросы (1).mp4   \n",
       "641                          Сброс_1.mp4   \n",
       "1016                             Unknown   \n",
       "\n",
       "                                           message_text  \\\n",
       "656   ⚡️💥Разведчики ВС РФ заметили солдат ВСУ на огн...   \n",
       "922   #эксклюзив\\nВидео, на которых хорошо видно поп...   \n",
       "206   📹Расчёты  БЛА  и артиллерия 9 бригады уничтожа...   \n",
       "641   Запальний нижній брейкданс у виконанні \"другої...   \n",
       "1016  Взрыв в Новой Каховке, в районе электромеханич...   \n",
       "\n",
       "                   message_date     peer_id post_author  \\\n",
       "656   2022-12-27 11:50:47+00:00  1747620635         NaN   \n",
       "922   2022-09-22 12:19:27+00:00  1210987817         NaN   \n",
       "206   2023-03-30 05:59:01+00:00  1372147953         NaN   \n",
       "641   2023-01-03 18:03:03+00:00  1507076521         NaN   \n",
       "1016  2022-08-30 06:53:49+00:00  1074354585         NaN   \n",
       "\n",
       "                                         from  file_size          access_hash  \\\n",
       "656               https://t.me/ZA_FROHT/11070   15207324  5831423455554312896   \n",
       "922   https://t.me/NeoficialniyBeZsonoV/17976   10095792  7692846719952014036   \n",
       "206                 https://t.me/nm_dnr/10105    6608963 -5921846431927112696   \n",
       "641                  https://t.me/ombr_28/218   65350480 -5776135694752862093   \n",
       "1016           https://t.me/milinfolive/89661    5337156 -8240059508135048326   \n",
       "\n",
       "                                         file_reference  \\\n",
       "656   b'\\x02h*\\x93\\x1b\\x00\\x00+>dki\\xda?\\x0c\\xbcU\\xa...   \n",
       "922   b'\\x02H.5)\\x00\\x00F8dkk\\xa0\\xbf\\x97\\xf4\\xa8sma...   \n",
       "206   b\"\\x02Q\\xc9P\\xf1\\x00\\x00'ydkg{wx&\\\\\\xb30>\\xf6\\...   \n",
       "641   b'\\x02Y\\xd4)\\xa9\\x00\\x00\\x00\\xdadki\\xc1\\xf0\\xd...   \n",
       "1016  b'\\x02@\\tY\\x99\\x00\\x01^=dkl=\\x1d\\xda\\xc8\\xde\\x...   \n",
       "\n",
       "                          date  mime_type  duration  width  height  \n",
       "656  2022-12-27 11:23:27+00:00  video/mp4        36   1280     720  \n",
       "922  2022-09-22 12:18:55+00:00  video/mp4        14   1280     720  \n",
       "206  2023-03-29 10:00:28+00:00  video/mp4        43   1280     720  \n",
       "641  2023-01-03 18:03:03+00:00  video/mp4        71   1280     720  \n",
       "1016 2022-08-30 06:53:49+00:00  video/mp4        16   1008    1280  "
      ]
     },
     "execution_count": 50,
     "metadata": {},
     "output_type": "execute_result"
    }
   ],
   "source": [
    "df.sample(5)"
   ]
  },
  {
   "cell_type": "code",
   "execution_count": 5,
   "id": "233d72b3-1dc8-4fc9-b98e-5d4b382807ab",
   "metadata": {
    "tags": []
   },
   "outputs": [],
   "source": [
    "cols = ['file_size', 'duration', 'width', 'height']"
   ]
  },
  {
   "cell_type": "code",
   "execution_count": null,
   "id": "d6fd1936-9db5-48ec-9b45-b1fe4715d6ef",
   "metadata": {
    "tags": []
   },
   "outputs": [],
   "source": [
    "creamy_caprice = pd.read_csv(\"creamy_caprice.csv\")\n",
    "creamy_caprice[\"from\"] = \"https://t.me/\" + creamy_caprice[\"from\"]"
   ]
  },
  {
   "cell_type": "code",
   "execution_count": 7,
   "id": "19c85bbe-0036-4b2a-903c-b79ddbf0628f",
   "metadata": {},
   "outputs": [],
   "source": [
    "def find_similar_rows(df1, df2, cols):\n",
    "    output_df = pd.DataFrame()\n",
    "    for i in range(len(cols)):\n",
    "        merged = pd.merge(df1, df2, on=cols[i:], suffixes=(\"_archive\", \"_entry\"))\n",
    "        merged[\"num_sim_cols\"] = len(cols[i:])\n",
    "        output_df = pd.concat([output_df, merged])\n",
    "    return output_df.reindex(sorted(output_df.columns), axis=1)"
   ]
  },
  {
   "cell_type": "code",
   "execution_count": 18,
   "id": "9e6ea70e-37ee-459d-ba11-44f6a734dc6d",
   "metadata": {
    "tags": []
   },
   "outputs": [],
   "source": [
    "dublicates = find_similar_rows(video_archive, creamy_caprice, cols)"
   ]
  },
  {
   "cell_type": "code",
   "execution_count": 19,
   "id": "95dba631-c529-4a3d-9e4e-22a5d84b06c3",
   "metadata": {},
   "outputs": [
    {
     "data": {
      "text/html": [
       "<div>\n",
       "<style scoped>\n",
       "    .dataframe tbody tr th:only-of-type {\n",
       "        vertical-align: middle;\n",
       "    }\n",
       "\n",
       "    .dataframe tbody tr th {\n",
       "        vertical-align: top;\n",
       "    }\n",
       "\n",
       "    .dataframe thead th {\n",
       "        text-align: right;\n",
       "    }\n",
       "</style>\n",
       "<table border=\"1\" class=\"dataframe\">\n",
       "  <thead>\n",
       "    <tr style=\"text-align: right;\">\n",
       "      <th></th>\n",
       "      <th>access_hash_archive</th>\n",
       "      <th>access_hash_entry</th>\n",
       "      <th>date_archive</th>\n",
       "      <th>date_entry</th>\n",
       "      <th>duration</th>\n",
       "      <th>duration_archive</th>\n",
       "      <th>duration_entry</th>\n",
       "      <th>file_name_archive</th>\n",
       "      <th>file_name_entry</th>\n",
       "      <th>file_reference_archive</th>\n",
       "      <th>...</th>\n",
       "      <th>file_size_entry</th>\n",
       "      <th>from_archive</th>\n",
       "      <th>from_entry</th>\n",
       "      <th>height</th>\n",
       "      <th>mime_type_archive</th>\n",
       "      <th>mime_type_entry</th>\n",
       "      <th>num_sim_cols</th>\n",
       "      <th>width</th>\n",
       "      <th>width_archive</th>\n",
       "      <th>width_entry</th>\n",
       "    </tr>\n",
       "  </thead>\n",
       "  <tbody>\n",
       "    <tr>\n",
       "      <th>0</th>\n",
       "      <td>275837513634620057</td>\n",
       "      <td>-5017923931430201193</td>\n",
       "      <td>2023-05-01 12:11:13+00:00</td>\n",
       "      <td>2023-05-01 15:21:01+00:00</td>\n",
       "      <td>23.0</td>\n",
       "      <td>NaN</td>\n",
       "      <td>NaN</td>\n",
       "      <td>ФАБ штаб ВСУ.mp4</td>\n",
       "      <td>1.mp4</td>\n",
       "      <td>b'\\x02H\\xdb\\xef\\xfb\\x00\\x00\\x1aGdh\\xa6\\r\\x07\\x...</td>\n",
       "      <td>...</td>\n",
       "      <td>NaN</td>\n",
       "      <td>https://t.me/btr80/6727</td>\n",
       "      <td>https://t.me/creamy_caprice/658</td>\n",
       "      <td>720</td>\n",
       "      <td>video/mp4</td>\n",
       "      <td>video/mp4</td>\n",
       "      <td>4</td>\n",
       "      <td>1280.0</td>\n",
       "      <td>NaN</td>\n",
       "      <td>NaN</td>\n",
       "    </tr>\n",
       "    <tr>\n",
       "      <th>1</th>\n",
       "      <td>-6442214462486287726</td>\n",
       "      <td>5359519755097296136</td>\n",
       "      <td>2023-04-28 20:49:37+00:00</td>\n",
       "      <td>2023-04-28 21:00:51+00:00</td>\n",
       "      <td>6.0</td>\n",
       "      <td>NaN</td>\n",
       "      <td>NaN</td>\n",
       "      <td>IMG_8343.MOV</td>\n",
       "      <td>1.mp4</td>\n",
       "      <td>b'\\x02d\\ry\\xec\\x00\\x00Iydh\\xa6\\x14Q\\xde\\x86\\x0...</td>\n",
       "      <td>...</td>\n",
       "      <td>NaN</td>\n",
       "      <td>https://t.me/rus_bakhmut/18809</td>\n",
       "      <td>https://t.me/creamy_caprice/640</td>\n",
       "      <td>848</td>\n",
       "      <td>video/mp4</td>\n",
       "      <td>video/mp4</td>\n",
       "      <td>4</td>\n",
       "      <td>496.0</td>\n",
       "      <td>NaN</td>\n",
       "      <td>NaN</td>\n",
       "    </tr>\n",
       "    <tr>\n",
       "      <th>2</th>\n",
       "      <td>5563611600496351852</td>\n",
       "      <td>7587186215823778137</td>\n",
       "      <td>2023-04-27 10:09:34+00:00</td>\n",
       "      <td>2023-04-27 10:38:32+00:00</td>\n",
       "      <td>16.0</td>\n",
       "      <td>NaN</td>\n",
       "      <td>NaN</td>\n",
       "      <td>IMG_2096.MP4</td>\n",
       "      <td>1.mp4</td>\n",
       "      <td>b'\\x02I\\x95\\x8a4\\x00\\x00\\x00Udh\\xa6\\x1d\\xc6=\\x...</td>\n",
       "      <td>...</td>\n",
       "      <td>NaN</td>\n",
       "      <td>https://t.me/umftteam/85</td>\n",
       "      <td>https://t.me/creamy_caprice/631</td>\n",
       "      <td>640</td>\n",
       "      <td>video/mp4</td>\n",
       "      <td>video/mp4</td>\n",
       "      <td>4</td>\n",
       "      <td>352.0</td>\n",
       "      <td>NaN</td>\n",
       "      <td>NaN</td>\n",
       "    </tr>\n",
       "    <tr>\n",
       "      <th>3</th>\n",
       "      <td>708986586165060826</td>\n",
       "      <td>1417925647485655503</td>\n",
       "      <td>2023-04-25 10:54:56+00:00</td>\n",
       "      <td>2023-04-25 11:54:26+00:00</td>\n",
       "      <td>19.0</td>\n",
       "      <td>NaN</td>\n",
       "      <td>NaN</td>\n",
       "      <td>IMG_6079.MOV</td>\n",
       "      <td>1.mp4</td>\n",
       "      <td>b'\\x02B &amp;:\\x00\\x00\\x9a7dh\\xa6$\\xb8T\\x91Z\\xa97\\...</td>\n",
       "      <td>...</td>\n",
       "      <td>NaN</td>\n",
       "      <td>https://t.me/sashakots/39479</td>\n",
       "      <td>https://t.me/creamy_caprice/621</td>\n",
       "      <td>688</td>\n",
       "      <td>video/mp4</td>\n",
       "      <td>video/mp4</td>\n",
       "      <td>4</td>\n",
       "      <td>1280.0</td>\n",
       "      <td>NaN</td>\n",
       "      <td>NaN</td>\n",
       "    </tr>\n",
       "    <tr>\n",
       "      <th>4</th>\n",
       "      <td>3165719133569501293</td>\n",
       "      <td>-2983858427475976949</td>\n",
       "      <td>2023-04-21 15:34:03+00:00</td>\n",
       "      <td>2023-04-21 16:43:24+00:00</td>\n",
       "      <td>78.0</td>\n",
       "      <td>NaN</td>\n",
       "      <td>NaN</td>\n",
       "      <td>2023-04-21 От С_наступление (1).mp4</td>\n",
       "      <td>1.mp4</td>\n",
       "      <td>b\"\\x02Q\\xc9P\\xf1\\x00\\x00'\\xfedh\\xa65\\x18\\xc1\\x...</td>\n",
       "      <td>...</td>\n",
       "      <td>NaN</td>\n",
       "      <td>https://t.me/nm_dnr/10238</td>\n",
       "      <td>https://t.me/creamy_caprice/592</td>\n",
       "      <td>720</td>\n",
       "      <td>video/mp4</td>\n",
       "      <td>video/mp4</td>\n",
       "      <td>4</td>\n",
       "      <td>1280.0</td>\n",
       "      <td>NaN</td>\n",
       "      <td>NaN</td>\n",
       "    </tr>\n",
       "  </tbody>\n",
       "</table>\n",
       "<p>5 rows × 23 columns</p>\n",
       "</div>"
      ],
      "text/plain": [
       "   access_hash_archive    access_hash_entry              date_archive  \\\n",
       "0   275837513634620057 -5017923931430201193 2023-05-01 12:11:13+00:00   \n",
       "1 -6442214462486287726  5359519755097296136 2023-04-28 20:49:37+00:00   \n",
       "2  5563611600496351852  7587186215823778137 2023-04-27 10:09:34+00:00   \n",
       "3   708986586165060826  1417925647485655503 2023-04-25 10:54:56+00:00   \n",
       "4  3165719133569501293 -2983858427475976949 2023-04-21 15:34:03+00:00   \n",
       "\n",
       "                  date_entry  duration  duration_archive  duration_entry  \\\n",
       "0  2023-05-01 15:21:01+00:00      23.0               NaN             NaN   \n",
       "1  2023-04-28 21:00:51+00:00       6.0               NaN             NaN   \n",
       "2  2023-04-27 10:38:32+00:00      16.0               NaN             NaN   \n",
       "3  2023-04-25 11:54:26+00:00      19.0               NaN             NaN   \n",
       "4  2023-04-21 16:43:24+00:00      78.0               NaN             NaN   \n",
       "\n",
       "                     file_name_archive file_name_entry  \\\n",
       "0                     ФАБ штаб ВСУ.mp4           1.mp4   \n",
       "1                         IMG_8343.MOV           1.mp4   \n",
       "2                         IMG_2096.MP4           1.mp4   \n",
       "3                         IMG_6079.MOV           1.mp4   \n",
       "4  2023-04-21 От С_наступление (1).mp4           1.mp4   \n",
       "\n",
       "                              file_reference_archive  ... file_size_entry  \\\n",
       "0  b'\\x02H\\xdb\\xef\\xfb\\x00\\x00\\x1aGdh\\xa6\\r\\x07\\x...  ...             NaN   \n",
       "1  b'\\x02d\\ry\\xec\\x00\\x00Iydh\\xa6\\x14Q\\xde\\x86\\x0...  ...             NaN   \n",
       "2  b'\\x02I\\x95\\x8a4\\x00\\x00\\x00Udh\\xa6\\x1d\\xc6=\\x...  ...             NaN   \n",
       "3  b'\\x02B &:\\x00\\x00\\x9a7dh\\xa6$\\xb8T\\x91Z\\xa97\\...  ...             NaN   \n",
       "4  b\"\\x02Q\\xc9P\\xf1\\x00\\x00'\\xfedh\\xa65\\x18\\xc1\\x...  ...             NaN   \n",
       "\n",
       "                     from_archive                       from_entry  height  \\\n",
       "0         https://t.me/btr80/6727  https://t.me/creamy_caprice/658     720   \n",
       "1  https://t.me/rus_bakhmut/18809  https://t.me/creamy_caprice/640     848   \n",
       "2        https://t.me/umftteam/85  https://t.me/creamy_caprice/631     640   \n",
       "3    https://t.me/sashakots/39479  https://t.me/creamy_caprice/621     688   \n",
       "4       https://t.me/nm_dnr/10238  https://t.me/creamy_caprice/592     720   \n",
       "\n",
       "  mime_type_archive mime_type_entry  num_sim_cols   width width_archive  \\\n",
       "0         video/mp4       video/mp4             4  1280.0           NaN   \n",
       "1         video/mp4       video/mp4             4   496.0           NaN   \n",
       "2         video/mp4       video/mp4             4   352.0           NaN   \n",
       "3         video/mp4       video/mp4             4  1280.0           NaN   \n",
       "4         video/mp4       video/mp4             4  1280.0           NaN   \n",
       "\n",
       "   width_entry  \n",
       "0          NaN  \n",
       "1          NaN  \n",
       "2          NaN  \n",
       "3          NaN  \n",
       "4          NaN  \n",
       "\n",
       "[5 rows x 23 columns]"
      ]
     },
     "execution_count": 19,
     "metadata": {},
     "output_type": "execute_result"
    }
   ],
   "source": [
    "dublicates[dublicates.num_sim_cols == 4]"
   ]
  },
  {
   "cell_type": "code",
   "execution_count": null,
   "id": "48bc3c1f-ac8c-4f46-812f-17c2b7a2dece",
   "metadata": {},
   "outputs": [],
   "source": []
  },
  {
   "cell_type": "markdown",
   "id": "9461b134-e5f4-454a-962a-7118c2d433f1",
   "metadata": {},
   "source": [
    "### Update video archive "
   ]
  },
  {
   "cell_type": "code",
   "execution_count": 95,
   "id": "7d2b18fe-0e38-48fd-ade4-5df69df55ae0",
   "metadata": {
    "tags": []
   },
   "outputs": [
    {
     "data": {
      "text/plain": [
       "(79, 14)"
      ]
     },
     "execution_count": 95,
     "metadata": {},
     "output_type": "execute_result"
    }
   ],
   "source": [
    "new_data = pd.read_csv(\"app/scraped_data/creamy_caprice.csv\")\n",
    "new_data.shape"
   ]
  },
  {
   "cell_type": "code",
   "execution_count": 103,
   "id": "1a8a8c9b-d388-4d61-adb3-4c0a545b12df",
   "metadata": {
    "tags": []
   },
   "outputs": [
    {
     "data": {
      "text/plain": [
       "(1311, 14)"
      ]
     },
     "execution_count": 103,
     "metadata": {},
     "output_type": "execute_result"
    }
   ],
   "source": [
    "archive = pd.read_csv(\"app/scraped_data/archive.csv\")\n",
    "archive.shape"
   ]
  },
  {
   "cell_type": "code",
   "execution_count": 101,
   "id": "cf80263d-361b-4452-b291-6b9a1ba809e9",
   "metadata": {
    "tags": []
   },
   "outputs": [
    {
     "data": {
      "text/plain": [
       "1390"
      ]
     },
     "execution_count": 101,
     "metadata": {},
     "output_type": "execute_result"
    }
   ],
   "source": [
    "1311 + 79"
   ]
  },
  {
   "cell_type": "code",
   "execution_count": 97,
   "id": "9b4ae84e-fb4a-4023-888d-a39bd03ed6c7",
   "metadata": {
    "tags": []
   },
   "outputs": [],
   "source": [
    "cols = ['file_size', 'duration', 'width', 'height']"
   ]
  },
  {
   "cell_type": "code",
   "execution_count": 111,
   "id": "70e3029e-58c5-4006-a8df-812fc1070dde",
   "metadata": {
    "tags": []
   },
   "outputs": [],
   "source": [
    "def update_archive(new_data: pd.DataFrame):\n",
    "    archive = pd.read_csv(\"app/scraped_data/archive.csv\")\n",
    "    cols = ['file_size', 'duration', 'width', 'height']\n",
    "    updated_archive = pd.concat([archive, new_data])\n",
    "    updated_archive = updated_archive.sort_values(by=\"date\", ascending=True)\n",
    "    updated_archive = updated_archive.drop_duplicates(subset=cols, keep=\"first\").reset_index(drop=True)\n",
    "    # updated_archive.to_csv(\"app/scraped_data/archive.csv\", index=False)\n",
    "    return updated_archive"
   ]
  },
  {
   "cell_type": "code",
   "execution_count": 112,
   "id": "a0a3c9e9-524b-4369-9abe-04c903946b4c",
   "metadata": {
    "tags": []
   },
   "outputs": [],
   "source": [
    "updated_archive = update_archive(new_data)"
   ]
  },
  {
   "cell_type": "code",
   "execution_count": 114,
   "id": "4f71a64e-b434-464e-89dd-0eb57b573f01",
   "metadata": {
    "tags": []
   },
   "outputs": [
    {
     "data": {
      "text/plain": [
       "(1384, 14)"
      ]
     },
     "execution_count": 114,
     "metadata": {},
     "output_type": "execute_result"
    }
   ],
   "source": [
    "updated_archive.shape"
   ]
  },
  {
   "cell_type": "code",
   "execution_count": null,
   "id": "c47907d0-71f7-41c7-a5f7-9966fc1e7772",
   "metadata": {},
   "outputs": [],
   "source": []
  }
 ],
 "metadata": {
  "kernelspec": {
   "display_name": "Python 3 (ipykernel)",
   "language": "python",
   "name": "python3"
  },
  "language_info": {
   "codemirror_mode": {
    "name": "ipython",
    "version": 3
   },
   "file_extension": ".py",
   "mimetype": "text/x-python",
   "name": "python",
   "nbconvert_exporter": "python",
   "pygments_lexer": "ipython3",
   "version": "3.9.16"
  }
 },
 "nbformat": 4,
 "nbformat_minor": 5
}
